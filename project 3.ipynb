{
 "cells": [
  {
   "cell_type": "code",
   "execution_count": 1,
   "id": "f321a88a",
   "metadata": {},
   "outputs": [
    {
     "name": "stdout",
     "output_type": "stream",
     "text": [
      "('Almeida', 'Roberto', 'For Those About To Rock (We Salute You)', 'For Those About To Rock We Salute You')\n"
     ]
    }
   ],
   "source": [
    "import sqlite3 as lite\n",
    "import pandas as pd\n",
    "\n",
    "\n",
    "con = lite.connect('Chinook.db')\n",
    "\n",
    "cur = con.cursor()\n",
    "\n",
    "chinook = open(\"chinook-database.sql\", encoding='utf8')\n",
    "cur.executescript(chinook.read())\n",
    "    \n",
    "cur.execute('''Select \n",
    "    c.LastName, \n",
    "    c.FirstName, \n",
    "    t.Name, \n",
    "    a.Title \n",
    "    FROM Customer as c \n",
    "    JOIN Track as t \n",
    "    JOIN Album as a\n",
    "    ON a.AlbumID = t.AlbumID\n",
    "    ORDER BY c.LastName''')\n",
    "print(cur.fetchone())"
   ]
  },
  {
   "cell_type": "code",
   "execution_count": 3,
   "id": "0b36be90",
   "metadata": {},
   "outputs": [
    {
     "data": {
      "text/html": [
       "<div>\n",
       "<style scoped>\n",
       "    .dataframe tbody tr th:only-of-type {\n",
       "        vertical-align: middle;\n",
       "    }\n",
       "\n",
       "    .dataframe tbody tr th {\n",
       "        vertical-align: top;\n",
       "    }\n",
       "\n",
       "    .dataframe thead th {\n",
       "        text-align: right;\n",
       "    }\n",
       "</style>\n",
       "<table border=\"1\" class=\"dataframe\">\n",
       "  <thead>\n",
       "    <tr style=\"text-align: right;\">\n",
       "      <th></th>\n",
       "      <th>LastName</th>\n",
       "      <th>FirstName</th>\n",
       "      <th>Name</th>\n",
       "      <th>Title</th>\n",
       "    </tr>\n",
       "  </thead>\n",
       "  <tbody>\n",
       "    <tr>\n",
       "      <th>0</th>\n",
       "      <td>Almeida</td>\n",
       "      <td>Roberto</td>\n",
       "      <td>For Those About To Rock (We Salute You)</td>\n",
       "      <td>For Those About To Rock We Salute You</td>\n",
       "    </tr>\n",
       "    <tr>\n",
       "      <th>1</th>\n",
       "      <td>Almeida</td>\n",
       "      <td>Roberto</td>\n",
       "      <td>Balls to the Wall</td>\n",
       "      <td>Balls to the Wall</td>\n",
       "    </tr>\n",
       "    <tr>\n",
       "      <th>2</th>\n",
       "      <td>Almeida</td>\n",
       "      <td>Roberto</td>\n",
       "      <td>Fast As a Shark</td>\n",
       "      <td>Restless and Wild</td>\n",
       "    </tr>\n",
       "    <tr>\n",
       "      <th>3</th>\n",
       "      <td>Almeida</td>\n",
       "      <td>Roberto</td>\n",
       "      <td>Restless and Wild</td>\n",
       "      <td>Restless and Wild</td>\n",
       "    </tr>\n",
       "    <tr>\n",
       "      <th>4</th>\n",
       "      <td>Almeida</td>\n",
       "      <td>Roberto</td>\n",
       "      <td>Princess of the Dawn</td>\n",
       "      <td>Restless and Wild</td>\n",
       "    </tr>\n",
       "  </tbody>\n",
       "</table>\n",
       "</div>"
      ],
      "text/plain": [
       "  LastName FirstName                                     Name  \\\n",
       "0  Almeida   Roberto  For Those About To Rock (We Salute You)   \n",
       "1  Almeida   Roberto                        Balls to the Wall   \n",
       "2  Almeida   Roberto                          Fast As a Shark   \n",
       "3  Almeida   Roberto                        Restless and Wild   \n",
       "4  Almeida   Roberto                     Princess of the Dawn   \n",
       "\n",
       "                                   Title  \n",
       "0  For Those About To Rock We Salute You  \n",
       "1                      Balls to the Wall  \n",
       "2                      Restless and Wild  \n",
       "3                      Restless and Wild  \n",
       "4                      Restless and Wild  "
      ]
     },
     "execution_count": 3,
     "metadata": {},
     "output_type": "execute_result"
    }
   ],
   "source": [
    "df = pd.read_sql_query(\n",
    "    '''Select \n",
    "    c.LastName, \n",
    "    c.FirstName, \n",
    "    t.Name, \n",
    "    a.Title \n",
    "    FROM Customer as c \n",
    "    JOIN Track as t\n",
    "    ON t.AlbumID = a.AlbumID\n",
    "    JOIN Album as a\n",
    "    ON a.AlbumID = t.AlbumID\n",
    "    ORDER BY c.LastName''', con)\n",
    "\n",
    "df.head()"
   ]
  },
  {
   "cell_type": "code",
   "execution_count": null,
   "id": "27d73b2f",
   "metadata": {},
   "outputs": [],
   "source": []
  }
 ],
 "metadata": {
  "kernelspec": {
   "display_name": "Python 3 (ipykernel)",
   "language": "python",
   "name": "python3"
  },
  "language_info": {
   "codemirror_mode": {
    "name": "ipython",
    "version": 3
   },
   "file_extension": ".py",
   "mimetype": "text/x-python",
   "name": "python",
   "nbconvert_exporter": "python",
   "pygments_lexer": "ipython3",
   "version": "3.10.10"
  }
 },
 "nbformat": 4,
 "nbformat_minor": 5
}
